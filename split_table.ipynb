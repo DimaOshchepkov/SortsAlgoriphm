{
 "cells": [
  {
   "cell_type": "code",
   "execution_count": 5,
   "metadata": {},
   "outputs": [],
   "source": [
    "import pandas as pd\n",
    "import os\n",
    "\n",
    "def split_table_by_algorithm(input_file, output_dir='output_tables', sheet_name='Sheet1'):\n",
    "    # Чтение исходного Excel файла\n",
    "    df = pd.read_excel(input_file, sheet_name=sheet_name)\n",
    "\n",
    "    # Получение уникальных значений в столбце \"Algorithm\"\n",
    "    unique_algorithms = df['Algorithm'].unique()\n",
    "\n",
    "    # Создание директории для сохранения файлов, если она не существует\n",
    "    if not os.path.exists(output_dir):\n",
    "        os.makedirs(output_dir)\n",
    "\n",
    "    # Создание отдельных файлов для каждой таблицы\n",
    "    for algorithm in unique_algorithms:\n",
    "        # Создание новой таблицы для текущего алгоритма\n",
    "        df_subset = df[df['Algorithm'] == algorithm].copy()\n",
    "        # Удаление столбца \"Algorithm\"\n",
    "        df_subset = df_subset.drop(columns=['Algorithm'])\n",
    "        # Сортировка по столбцу \"Size\"\n",
    "        df_subset = df_subset.sort_values(by='Size')\n",
    "        # Замена значений в колонке 'iterations' меньших 3 на 3\n",
    "        df_subset['iterations'] = df_subset['iterations'].apply(lambda x: max(x, 3))\n",
    "        # Определение имени файла\n",
    "        output_file = os.path.join(output_dir, f'{algorithm}.xlsx')\n",
    "        # Запись новой таблицы в отдельный файл\n",
    "        df_subset.to_excel(output_file, index=False)\n",
    "\n",
    "# Вызов функции с указанием пути к входному файлу\n",
    "split_table_by_algorithm('output_normal_int.xlsx')"
   ]
  },
  {
   "cell_type": "code",
   "execution_count": null,
   "metadata": {},
   "outputs": [],
   "source": []
  }
 ],
 "metadata": {
  "kernelspec": {
   "display_name": "Python 3",
   "language": "python",
   "name": "python3"
  },
  "language_info": {
   "codemirror_mode": {
    "name": "ipython",
    "version": 3
   },
   "file_extension": ".py",
   "mimetype": "text/x-python",
   "name": "python",
   "nbconvert_exporter": "python",
   "pygments_lexer": "ipython3",
   "version": "3.12.2"
  }
 },
 "nbformat": 4,
 "nbformat_minor": 2
}
