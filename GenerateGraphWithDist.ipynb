{
 "cells": [
  {
   "cell_type": "code",
   "execution_count": 45,
   "metadata": {},
   "outputs": [],
   "source": [
    "import numpy as np\n",
    "\n"
   ]
  },
  {
   "cell_type": "code",
   "execution_count": 46,
   "metadata": {},
   "outputs": [
    {
     "name": "stdout",
     "output_type": "stream",
     "text": [
      "[59, 45, 46, 58, 35, 34, 36, 67, 49, 44]\n"
     ]
    }
   ],
   "source": [
    "def generate_int_array(size, mean, std_dev):\n",
    "    \"\"\"\n",
    "    Генерирует массив целых чисел согласно нормальному распределению.\n",
    "\n",
    "    Параметры:\n",
    "    - size: int, размер массива.\n",
    "    - mean: float, среднее значение.\n",
    "    - std_dev: float, стандартное отклонение.\n",
    "\n",
    "    Возвращает:\n",
    "    - int_array: list, массив целых чисел.\n",
    "    \"\"\"\n",
    "    int_array = np.abs(np.random.normal(mean, std_dev, size)).astype(int)\n",
    "    return int_array.tolist()\n",
    "\n",
    "# Пример использования\n",
    "size = 10\n",
    "mean = 50\n",
    "std_dev = 10\n",
    "int_array = generate_int_array(size, mean, std_dev)\n",
    "print(int_array)"
   ]
  },
  {
   "cell_type": "code",
   "execution_count": 47,
   "metadata": {},
   "outputs": [
    {
     "name": "stdout",
     "output_type": "stream",
     "text": [
      "Массив записан в файл test.txt\n"
     ]
    }
   ],
   "source": [
    "def write_array_to_file(array, file_name):\n",
    "    \"\"\"\n",
    "    Записывает массив целых чисел в текстовый файл.\n",
    "\n",
    "    Параметры:\n",
    "    - array: list, массив целых чисел.\n",
    "    - file_name: str, имя файла для записи.\n",
    "\n",
    "    Возвращает:\n",
    "    - None.\n",
    "    \"\"\"\n",
    "    with open(file_name, 'w') as file:\n",
    "        for num in array:\n",
    "            file.write(str(num) + '\\n')\n",
    "            \n",
    "int_array = [1, 2, 3, 4, 5]\n",
    "file_name = 'test.txt'\n",
    "write_array_to_file(int_array, file_name)\n",
    "print(\"Массив записан в файл\", file_name)"
   ]
  },
  {
   "cell_type": "code",
   "execution_count": 48,
   "metadata": {},
   "outputs": [
    {
     "name": "stdout",
     "output_type": "stream",
     "text": [
      "Массив размером 1000000 записан в файл ./arrays/int_normal_1000000.txt\n",
      "Массив размером 2000000 записан в файл ./arrays/int_normal_2000000.txt\n",
      "Массив размером 3000000 записан в файл ./arrays/int_normal_3000000.txt\n",
      "Массив размером 4000000 записан в файл ./arrays/int_normal_4000000.txt\n",
      "Массив размером 5000000 записан в файл ./arrays/int_normal_5000000.txt\n",
      "Массив размером 6000000 записан в файл ./arrays/int_normal_6000000.txt\n",
      "Массив размером 7000000 записан в файл ./arrays/int_normal_7000000.txt\n",
      "Массив размером 8000000 записан в файл ./arrays/int_normal_8000000.txt\n",
      "Массив размером 9000000 записан в файл ./arrays/int_normal_9000000.txt\n",
      "Массив размером 10000000 записан в файл ./arrays/int_normal_10000000.txt\n",
      "Массив размером 11000000 записан в файл ./arrays/int_normal_11000000.txt\n",
      "Массив размером 12000000 записан в файл ./arrays/int_normal_12000000.txt\n",
      "Массив размером 13000000 записан в файл ./arrays/int_normal_13000000.txt\n",
      "Массив размером 14000000 записан в файл ./arrays/int_normal_14000000.txt\n",
      "Массив размером 15000000 записан в файл ./arrays/int_normal_15000000.txt\n",
      "Массив размером 16000000 записан в файл ./arrays/int_normal_16000000.txt\n",
      "Массив размером 17000000 записан в файл ./arrays/int_normal_17000000.txt\n",
      "Массив размером 18000000 записан в файл ./arrays/int_normal_18000000.txt\n",
      "Массив размером 19000000 записан в файл ./arrays/int_normal_19000000.txt\n",
      "Массив размером 20000000 записан в файл ./arrays/int_normal_20000000.txt\n"
     ]
    }
   ],
   "source": [
    "# Параметры для генерации массивов\n",
    "mean = 10000\n",
    "std_dev = 1000\n",
    "\n",
    "# Генерируем и записываем массивы различных размеров\n",
    "for size in range(1_000_000, 20_000_001, 1_000_000):\n",
    "    int_array = generate_int_array(size, mean, std_dev)\n",
    "    file_name = f'./arrays/int_normal_{size}.txt'\n",
    "    write_array_to_file(int_array, file_name)\n",
    "    print(f\"Массив размером {size} записан в файл {file_name}\")"
   ]
  },
  {
   "cell_type": "code",
   "execution_count": 49,
   "metadata": {},
   "outputs": [
    {
     "name": "stdout",
     "output_type": "stream",
     "text": [
      "[ 824 7975 1508 9864 6160 2363 3864 1843 6003  295]\n"
     ]
    }
   ],
   "source": [
    "def generate_random_array(size, min_value, max_value):\n",
    "    \"\"\"\n",
    "    Генерирует случайный массив целых чисел.\n",
    "\n",
    "    Параметры:\n",
    "    - size: int, размер массива.\n",
    "    - min_value: int, минимальное значение элемента массива.\n",
    "    - max_value: int, максимальное значение элемента массива.\n",
    "\n",
    "    Возвращает:\n",
    "    - random_array: ndarray, случайный массив целых чисел.\n",
    "    \"\"\"\n",
    "    random_array = np.random.randint(min_value, max_value + 1, size)\n",
    "    return random_array\n",
    "\n",
    "# Пример использования\n",
    "size = 10\n",
    "min_value = 0\n",
    "max_value = 100\n",
    "random_array = generate_random_array(size, 0, 10_000)\n",
    "print(random_array)"
   ]
  },
  {
   "cell_type": "code",
   "execution_count": 50,
   "metadata": {},
   "outputs": [
    {
     "name": "stdout",
     "output_type": "stream",
     "text": [
      "Массив размером 1000000 записан в файл ./arrays/int_uniform_1000000.txt\n",
      "Массив размером 2000000 записан в файл ./arrays/int_uniform_2000000.txt\n",
      "Массив размером 3000000 записан в файл ./arrays/int_uniform_3000000.txt\n",
      "Массив размером 4000000 записан в файл ./arrays/int_uniform_4000000.txt\n",
      "Массив размером 5000000 записан в файл ./arrays/int_uniform_5000000.txt\n",
      "Массив размером 6000000 записан в файл ./arrays/int_uniform_6000000.txt\n",
      "Массив размером 7000000 записан в файл ./arrays/int_uniform_7000000.txt\n",
      "Массив размером 8000000 записан в файл ./arrays/int_uniform_8000000.txt\n",
      "Массив размером 9000000 записан в файл ./arrays/int_uniform_9000000.txt\n",
      "Массив размером 10000000 записан в файл ./arrays/int_uniform_10000000.txt\n",
      "Массив размером 11000000 записан в файл ./arrays/int_uniform_11000000.txt\n",
      "Массив размером 12000000 записан в файл ./arrays/int_uniform_12000000.txt\n",
      "Массив размером 13000000 записан в файл ./arrays/int_uniform_13000000.txt\n",
      "Массив размером 14000000 записан в файл ./arrays/int_uniform_14000000.txt\n",
      "Массив размером 15000000 записан в файл ./arrays/int_uniform_15000000.txt\n",
      "Массив размером 16000000 записан в файл ./arrays/int_uniform_16000000.txt\n",
      "Массив размером 17000000 записан в файл ./arrays/int_uniform_17000000.txt\n",
      "Массив размером 18000000 записан в файл ./arrays/int_uniform_18000000.txt\n",
      "Массив размером 19000000 записан в файл ./arrays/int_uniform_19000000.txt\n",
      "Массив размером 20000000 записан в файл ./arrays/int_uniform_20000000.txt\n"
     ]
    }
   ],
   "source": [
    "for size in range(1_000_000, 20_000_001, 1_000_000):\n",
    "    int_array = generate_random_array(size, 0, 1000)\n",
    "    file_name = f'./arrays/int_uniform_{size}.txt'\n",
    "    write_array_to_file(int_array, file_name)\n",
    "    print(f\"Массив размером {size} записан в файл {file_name}\")"
   ]
  },
  {
   "cell_type": "code",
   "execution_count": 51,
   "metadata": {},
   "outputs": [
    {
     "name": "stdout",
     "output_type": "stream",
     "text": [
      "Массив размером 10000 записан в файл ./arrays/int_normal_10000.txt\n",
      "Массив размером 15000 записан в файл ./arrays/int_normal_15000.txt\n",
      "Массив размером 20000 записан в файл ./arrays/int_normal_20000.txt\n",
      "Массив размером 25000 записан в файл ./arrays/int_normal_25000.txt\n",
      "Массив размером 30000 записан в файл ./arrays/int_normal_30000.txt\n",
      "Массив размером 35000 записан в файл ./arrays/int_normal_35000.txt\n",
      "Массив размером 40000 записан в файл ./arrays/int_normal_40000.txt\n",
      "Массив размером 45000 записан в файл ./arrays/int_normal_45000.txt\n",
      "Массив размером 50000 записан в файл ./arrays/int_normal_50000.txt\n",
      "Массив размером 55000 записан в файл ./arrays/int_normal_55000.txt\n",
      "Массив размером 60000 записан в файл ./arrays/int_normal_60000.txt\n",
      "Массив размером 65000 записан в файл ./arrays/int_normal_65000.txt\n",
      "Массив размером 70000 записан в файл ./arrays/int_normal_70000.txt\n",
      "Массив размером 75000 записан в файл ./arrays/int_normal_75000.txt\n",
      "Массив размером 80000 записан в файл ./arrays/int_normal_80000.txt\n",
      "Массив размером 85000 записан в файл ./arrays/int_normal_85000.txt\n",
      "Массив размером 90000 записан в файл ./arrays/int_normal_90000.txt\n",
      "Массив размером 95000 записан в файл ./arrays/int_normal_95000.txt\n",
      "Массив размером 100000 записан в файл ./arrays/int_normal_100000.txt\n",
      "Массив размером 105000 записан в файл ./arrays/int_normal_105000.txt\n",
      "Массив размером 110000 записан в файл ./arrays/int_normal_110000.txt\n",
      "Массив размером 115000 записан в файл ./arrays/int_normal_115000.txt\n",
      "Массив размером 120000 записан в файл ./arrays/int_normal_120000.txt\n",
      "Массив размером 125000 записан в файл ./arrays/int_normal_125000.txt\n",
      "Массив размером 130000 записан в файл ./arrays/int_normal_130000.txt\n",
      "Массив размером 135000 записан в файл ./arrays/int_normal_135000.txt\n",
      "Массив размером 140000 записан в файл ./arrays/int_normal_140000.txt\n",
      "Массив размером 145000 записан в файл ./arrays/int_normal_145000.txt\n",
      "Массив размером 150000 записан в файл ./arrays/int_normal_150000.txt\n",
      "Массив размером 155000 записан в файл ./arrays/int_normal_155000.txt\n",
      "Массив размером 160000 записан в файл ./arrays/int_normal_160000.txt\n",
      "Массив размером 165000 записан в файл ./arrays/int_normal_165000.txt\n",
      "Массив размером 170000 записан в файл ./arrays/int_normal_170000.txt\n",
      "Массив размером 175000 записан в файл ./arrays/int_normal_175000.txt\n",
      "Массив размером 180000 записан в файл ./arrays/int_normal_180000.txt\n",
      "Массив размером 185000 записан в файл ./arrays/int_normal_185000.txt\n",
      "Массив размером 190000 записан в файл ./arrays/int_normal_190000.txt\n",
      "Массив размером 195000 записан в файл ./arrays/int_normal_195000.txt\n",
      "Массив размером 200000 записан в файл ./arrays/int_normal_200000.txt\n",
      "Массив размером 205000 записан в файл ./arrays/int_normal_205000.txt\n",
      "Массив размером 210000 записан в файл ./arrays/int_normal_210000.txt\n",
      "Массив размером 215000 записан в файл ./arrays/int_normal_215000.txt\n",
      "Массив размером 220000 записан в файл ./arrays/int_normal_220000.txt\n",
      "Массив размером 225000 записан в файл ./arrays/int_normal_225000.txt\n",
      "Массив размером 230000 записан в файл ./arrays/int_normal_230000.txt\n",
      "Массив размером 235000 записан в файл ./arrays/int_normal_235000.txt\n",
      "Массив размером 240000 записан в файл ./arrays/int_normal_240000.txt\n",
      "Массив размером 245000 записан в файл ./arrays/int_normal_245000.txt\n",
      "Массив размером 250000 записан в файл ./arrays/int_normal_250000.txt\n",
      "Массив размером 255000 записан в файл ./arrays/int_normal_255000.txt\n",
      "Массив размером 260000 записан в файл ./arrays/int_normal_260000.txt\n",
      "Массив размером 265000 записан в файл ./arrays/int_normal_265000.txt\n",
      "Массив размером 270000 записан в файл ./arrays/int_normal_270000.txt\n",
      "Массив размером 275000 записан в файл ./arrays/int_normal_275000.txt\n",
      "Массив размером 280000 записан в файл ./arrays/int_normal_280000.txt\n",
      "Массив размером 285000 записан в файл ./arrays/int_normal_285000.txt\n",
      "Массив размером 290000 записан в файл ./arrays/int_normal_290000.txt\n",
      "Массив размером 295000 записан в файл ./arrays/int_normal_295000.txt\n",
      "Массив размером 300000 записан в файл ./arrays/int_normal_300000.txt\n"
     ]
    }
   ],
   "source": [
    "\n",
    "\n",
    "# Генерируем и записываем массивы различных размеров\n",
    "for size in range(10_000, 300_001, 5_000):\n",
    "    int_array = generate_int_array(size, mean, std_dev)\n",
    "    file_name = f'./arrays/int_normal_{size}.txt'\n",
    "    write_array_to_file(int_array, file_name)\n",
    "    print(f\"Массив размером {size} записан в файл {file_name}\")"
   ]
  },
  {
   "cell_type": "code",
   "execution_count": 52,
   "metadata": {},
   "outputs": [
    {
     "name": "stdout",
     "output_type": "stream",
     "text": [
      "Массив размером 10000 записан в файл ./arrays/int_uniform_10000.txt\n",
      "Массив размером 15000 записан в файл ./arrays/int_uniform_15000.txt\n",
      "Массив размером 20000 записан в файл ./arrays/int_uniform_20000.txt\n",
      "Массив размером 25000 записан в файл ./arrays/int_uniform_25000.txt\n",
      "Массив размером 30000 записан в файл ./arrays/int_uniform_30000.txt\n",
      "Массив размером 35000 записан в файл ./arrays/int_uniform_35000.txt\n",
      "Массив размером 40000 записан в файл ./arrays/int_uniform_40000.txt\n",
      "Массив размером 45000 записан в файл ./arrays/int_uniform_45000.txt\n",
      "Массив размером 50000 записан в файл ./arrays/int_uniform_50000.txt\n",
      "Массив размером 55000 записан в файл ./arrays/int_uniform_55000.txt\n",
      "Массив размером 60000 записан в файл ./arrays/int_uniform_60000.txt\n",
      "Массив размером 65000 записан в файл ./arrays/int_uniform_65000.txt\n",
      "Массив размером 70000 записан в файл ./arrays/int_uniform_70000.txt\n",
      "Массив размером 75000 записан в файл ./arrays/int_uniform_75000.txt\n",
      "Массив размером 80000 записан в файл ./arrays/int_uniform_80000.txt\n",
      "Массив размером 85000 записан в файл ./arrays/int_uniform_85000.txt\n",
      "Массив размером 90000 записан в файл ./arrays/int_uniform_90000.txt\n",
      "Массив размером 95000 записан в файл ./arrays/int_uniform_95000.txt\n",
      "Массив размером 100000 записан в файл ./arrays/int_uniform_100000.txt\n",
      "Массив размером 105000 записан в файл ./arrays/int_uniform_105000.txt\n",
      "Массив размером 110000 записан в файл ./arrays/int_uniform_110000.txt\n",
      "Массив размером 115000 записан в файл ./arrays/int_uniform_115000.txt\n",
      "Массив размером 120000 записан в файл ./arrays/int_uniform_120000.txt\n",
      "Массив размером 125000 записан в файл ./arrays/int_uniform_125000.txt\n",
      "Массив размером 130000 записан в файл ./arrays/int_uniform_130000.txt\n",
      "Массив размером 135000 записан в файл ./arrays/int_uniform_135000.txt\n",
      "Массив размером 140000 записан в файл ./arrays/int_uniform_140000.txt\n",
      "Массив размером 145000 записан в файл ./arrays/int_uniform_145000.txt\n",
      "Массив размером 150000 записан в файл ./arrays/int_uniform_150000.txt\n",
      "Массив размером 155000 записан в файл ./arrays/int_uniform_155000.txt\n",
      "Массив размером 160000 записан в файл ./arrays/int_uniform_160000.txt\n",
      "Массив размером 165000 записан в файл ./arrays/int_uniform_165000.txt\n",
      "Массив размером 170000 записан в файл ./arrays/int_uniform_170000.txt\n",
      "Массив размером 175000 записан в файл ./arrays/int_uniform_175000.txt\n",
      "Массив размером 180000 записан в файл ./arrays/int_uniform_180000.txt\n",
      "Массив размером 185000 записан в файл ./arrays/int_uniform_185000.txt\n",
      "Массив размером 190000 записан в файл ./arrays/int_uniform_190000.txt\n",
      "Массив размером 195000 записан в файл ./arrays/int_uniform_195000.txt\n",
      "Массив размером 200000 записан в файл ./arrays/int_uniform_200000.txt\n",
      "Массив размером 205000 записан в файл ./arrays/int_uniform_205000.txt\n",
      "Массив размером 210000 записан в файл ./arrays/int_uniform_210000.txt\n",
      "Массив размером 215000 записан в файл ./arrays/int_uniform_215000.txt\n",
      "Массив размером 220000 записан в файл ./arrays/int_uniform_220000.txt\n",
      "Массив размером 225000 записан в файл ./arrays/int_uniform_225000.txt\n",
      "Массив размером 230000 записан в файл ./arrays/int_uniform_230000.txt\n",
      "Массив размером 235000 записан в файл ./arrays/int_uniform_235000.txt\n",
      "Массив размером 240000 записан в файл ./arrays/int_uniform_240000.txt\n",
      "Массив размером 245000 записан в файл ./arrays/int_uniform_245000.txt\n",
      "Массив размером 250000 записан в файл ./arrays/int_uniform_250000.txt\n",
      "Массив размером 255000 записан в файл ./arrays/int_uniform_255000.txt\n",
      "Массив размером 260000 записан в файл ./arrays/int_uniform_260000.txt\n",
      "Массив размером 265000 записан в файл ./arrays/int_uniform_265000.txt\n",
      "Массив размером 270000 записан в файл ./arrays/int_uniform_270000.txt\n",
      "Массив размером 275000 записан в файл ./arrays/int_uniform_275000.txt\n",
      "Массив размером 280000 записан в файл ./arrays/int_uniform_280000.txt\n",
      "Массив размером 285000 записан в файл ./arrays/int_uniform_285000.txt\n",
      "Массив размером 290000 записан в файл ./arrays/int_uniform_290000.txt\n",
      "Массив размером 295000 записан в файл ./arrays/int_uniform_295000.txt\n",
      "Массив размером 300000 записан в файл ./arrays/int_uniform_300000.txt\n"
     ]
    }
   ],
   "source": [
    "for size in range(10_000, 300_001, 5_000):\n",
    "    int_array = int_array = generate_random_array(size, 0, 1000)\n",
    "    file_name = f'./arrays/int_uniform_{size}.txt'\n",
    "    write_array_to_file(int_array, file_name)\n",
    "    print(f\"Массив размером {size} записан в файл {file_name}\")"
   ]
  },
  {
   "cell_type": "code",
   "execution_count": 53,
   "metadata": {},
   "outputs": [
    {
     "name": "stdout",
     "output_type": "stream",
     "text": [
      "Массив размером 500 записан в файл ./arrays/int_uniform_500.txt\n",
      "Массив размером 1000 записан в файл ./arrays/int_uniform_1000.txt\n",
      "Массив размером 1500 записан в файл ./arrays/int_uniform_1500.txt\n",
      "Массив размером 2000 записан в файл ./arrays/int_uniform_2000.txt\n",
      "Массив размером 2500 записан в файл ./arrays/int_uniform_2500.txt\n",
      "Массив размером 3000 записан в файл ./arrays/int_uniform_3000.txt\n",
      "Массив размером 3500 записан в файл ./arrays/int_uniform_3500.txt\n",
      "Массив размером 4000 записан в файл ./arrays/int_uniform_4000.txt\n",
      "Массив размером 4500 записан в файл ./arrays/int_uniform_4500.txt\n",
      "Массив размером 5000 записан в файл ./arrays/int_uniform_5000.txt\n",
      "Массив размером 5500 записан в файл ./arrays/int_uniform_5500.txt\n",
      "Массив размером 6000 записан в файл ./arrays/int_uniform_6000.txt\n",
      "Массив размером 6500 записан в файл ./arrays/int_uniform_6500.txt\n",
      "Массив размером 7000 записан в файл ./arrays/int_uniform_7000.txt\n",
      "Массив размером 7500 записан в файл ./arrays/int_uniform_7500.txt\n",
      "Массив размером 8000 записан в файл ./arrays/int_uniform_8000.txt\n",
      "Массив размером 8500 записан в файл ./arrays/int_uniform_8500.txt\n",
      "Массив размером 9000 записан в файл ./arrays/int_uniform_9000.txt\n",
      "Массив размером 9500 записан в файл ./arrays/int_uniform_9500.txt\n",
      "Массив размером 10000 записан в файл ./arrays/int_uniform_10000.txt\n"
     ]
    }
   ],
   "source": [
    "for size in range(500, 10_001, 500):\n",
    "    int_array = int_array = generate_random_array(size, 0, 1000)\n",
    "    file_name = f'./arrays/int_uniform_{size}.txt'\n",
    "    write_array_to_file(int_array, file_name)\n",
    "    print(f\"Массив размером {size} записан в файл {file_name}\")"
   ]
  },
  {
   "cell_type": "code",
   "execution_count": 54,
   "metadata": {},
   "outputs": [
    {
     "name": "stdout",
     "output_type": "stream",
     "text": [
      "Массив размером 500 записан в файл ./arrays/int_normal_500.txt\n",
      "Массив размером 1000 записан в файл ./arrays/int_normal_1000.txt\n",
      "Массив размером 1500 записан в файл ./arrays/int_normal_1500.txt\n",
      "Массив размером 2000 записан в файл ./arrays/int_normal_2000.txt\n",
      "Массив размером 2500 записан в файл ./arrays/int_normal_2500.txt\n",
      "Массив размером 3000 записан в файл ./arrays/int_normal_3000.txt\n",
      "Массив размером 3500 записан в файл ./arrays/int_normal_3500.txt\n",
      "Массив размером 4000 записан в файл ./arrays/int_normal_4000.txt\n",
      "Массив размером 4500 записан в файл ./arrays/int_normal_4500.txt\n",
      "Массив размером 5000 записан в файл ./arrays/int_normal_5000.txt\n",
      "Массив размером 5500 записан в файл ./arrays/int_normal_5500.txt\n",
      "Массив размером 6000 записан в файл ./arrays/int_normal_6000.txt\n",
      "Массив размером 6500 записан в файл ./arrays/int_normal_6500.txt\n",
      "Массив размером 7000 записан в файл ./arrays/int_normal_7000.txt\n",
      "Массив размером 7500 записан в файл ./arrays/int_normal_7500.txt\n",
      "Массив размером 8000 записан в файл ./arrays/int_normal_8000.txt\n",
      "Массив размером 8500 записан в файл ./arrays/int_normal_8500.txt\n",
      "Массив размером 9000 записан в файл ./arrays/int_normal_9000.txt\n",
      "Массив размером 9500 записан в файл ./arrays/int_normal_9500.txt\n",
      "Массив размером 10000 записан в файл ./arrays/int_normal_10000.txt\n"
     ]
    }
   ],
   "source": [
    "\n",
    "\n",
    "# Генерируем и записываем массивы различных размеров\n",
    "for size in range(500, 10_001, 500):\n",
    "    int_array = generate_int_array(size, mean, std_dev)\n",
    "    file_name = f'./arrays/int_normal_{size}.txt'\n",
    "    write_array_to_file(int_array, file_name)\n",
    "    print(f\"Массив размером {size} записан в файл {file_name}\")"
   ]
  },
  {
   "cell_type": "code",
   "execution_count": 55,
   "metadata": {},
   "outputs": [
    {
     "name": "stdout",
     "output_type": "stream",
     "text": [
      "Массив размером 50 записан в файл ./arrays/int_normal_50.txt\n",
      "Массив размером 100 записан в файл ./arrays/int_normal_100.txt\n",
      "Массив размером 150 записан в файл ./arrays/int_normal_150.txt\n",
      "Массив размером 200 записан в файл ./arrays/int_normal_200.txt\n",
      "Массив размером 250 записан в файл ./arrays/int_normal_250.txt\n",
      "Массив размером 300 записан в файл ./arrays/int_normal_300.txt\n",
      "Массив размером 350 записан в файл ./arrays/int_normal_350.txt\n",
      "Массив размером 400 записан в файл ./arrays/int_normal_400.txt\n",
      "Массив размером 450 записан в файл ./arrays/int_normal_450.txt\n",
      "Массив размером 50 записан в файл ./arrays/int_uniform_50.txt\n",
      "Массив размером 100 записан в файл ./arrays/int_uniform_100.txt\n",
      "Массив размером 150 записан в файл ./arrays/int_uniform_150.txt\n",
      "Массив размером 200 записан в файл ./arrays/int_uniform_200.txt\n",
      "Массив размером 250 записан в файл ./arrays/int_uniform_250.txt\n",
      "Массив размером 300 записан в файл ./arrays/int_uniform_300.txt\n",
      "Массив размером 350 записан в файл ./arrays/int_uniform_350.txt\n",
      "Массив размером 400 записан в файл ./arrays/int_uniform_400.txt\n",
      "Массив размером 450 записан в файл ./arrays/int_uniform_450.txt\n"
     ]
    }
   ],
   "source": [
    "\n",
    "\n",
    "# Генерируем и записываем массивы различных размеров\n",
    "for size in range(50, 500, 50):\n",
    "    int_array = generate_int_array(size, mean, std_dev)\n",
    "    file_name = f'./arrays/int_normal_{size}.txt'\n",
    "    write_array_to_file(int_array, file_name)\n",
    "    print(f\"Массив размером {size} записан в файл {file_name}\")\n",
    "    \n",
    "for size in range(50, 500, 50):\n",
    "    int_array = int_array = generate_random_array(size, 0, 1000)\n",
    "    file_name = f'./arrays/int_uniform_{size}.txt'\n",
    "    write_array_to_file(int_array, file_name)\n",
    "    print(f\"Массив размером {size} записан в файл {file_name}\")"
   ]
  }
 ],
 "metadata": {
  "kernelspec": {
   "display_name": "Python 3",
   "language": "python",
   "name": "python3"
  },
  "language_info": {
   "codemirror_mode": {
    "name": "ipython",
    "version": 3
   },
   "file_extension": ".py",
   "mimetype": "text/x-python",
   "name": "python",
   "nbconvert_exporter": "python",
   "pygments_lexer": "ipython3",
   "version": "3.12.2"
  }
 },
 "nbformat": 4,
 "nbformat_minor": 2
}
