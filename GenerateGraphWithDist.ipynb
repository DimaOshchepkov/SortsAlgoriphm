{
 "cells": [
  {
   "cell_type": "code",
   "execution_count": 6,
   "metadata": {},
   "outputs": [],
   "source": [
    "import numpy as np\n",
    "\n"
   ]
  },
  {
   "cell_type": "code",
   "execution_count": 7,
   "metadata": {},
   "outputs": [
    {
     "name": "stdout",
     "output_type": "stream",
     "text": [
      "Массив записан в файл test.txt\n"
     ]
    }
   ],
   "source": [
    "def write_array_to_file(array, file_name):\n",
    "    \"\"\"\n",
    "    Записывает массив целых чисел в текстовый файл.\n",
    "\n",
    "    Параметры:\n",
    "    - array: list, массив целых чисел.\n",
    "    - file_name: str, имя файла для записи.\n",
    "\n",
    "    Возвращает:\n",
    "    - None.\n",
    "    \"\"\"\n",
    "    try:\n",
    "        with open(file_name, 'w') as file:\n",
    "            for num in array:\n",
    "                file.write(str(num) + '\\n')\n",
    "    except Exception as e:\n",
    "        print(f\"Error writing to file: {e}\")\n",
    "            \n",
    "int_array = [1, 2, 3, 4, 5]\n",
    "file_name = 'test.txt'\n",
    "write_array_to_file(int_array, file_name)\n",
    "print(\"Массив записан в файл\", file_name)"
   ]
  },
  {
   "cell_type": "code",
   "execution_count": 8,
   "metadata": {},
   "outputs": [
    {
     "name": "stdout",
     "output_type": "stream",
     "text": [
      "[7846 2202 5527 7849 9508 8934 5593 2752 7296  945]\n"
     ]
    }
   ],
   "source": [
    "def generate_random_array(size, min_value, max_value):\n",
    "    \"\"\"\n",
    "    Генерирует случайный массив целых чисел.\n",
    "\n",
    "    Параметры:\n",
    "    - size: int, размер массива.\n",
    "    - min_value: int, минимальное значение элемента массива.\n",
    "    - max_value: int, максимальное значение элемента массива.\n",
    "\n",
    "    Возвращает:\n",
    "    - random_array: ndarray, случайный массив целых чисел.\n",
    "    \"\"\"\n",
    "    random_array = np.random.randint(min_value, max_value + 1, size)\n",
    "    return random_array\n",
    "\n",
    "# Пример использования\n",
    "size = 10\n",
    "min_value = 0\n",
    "max_value = 100\n",
    "random_array = generate_random_array(size, 0, 10_000)\n",
    "print(random_array)"
   ]
  },
  {
   "cell_type": "code",
   "execution_count": 5,
   "metadata": {},
   "outputs": [
    {
     "name": "stdout",
     "output_type": "stream",
     "text": [
      "Массив размером 5000000 записан в файл ./arrays/int_uniform_5000000.txt\n",
      "Массив размером 8000000 записан в файл ./arrays/int_uniform_8000000.txt\n",
      "Массив размером 11000000 записан в файл ./arrays/int_uniform_11000000.txt\n",
      "Массив размером 14000000 записан в файл ./arrays/int_uniform_14000000.txt\n",
      "Массив размером 17000000 записан в файл ./arrays/int_uniform_17000000.txt\n",
      "Массив размером 20000000 записан в файл ./arrays/int_uniform_20000000.txt\n",
      "Массив размером 23000000 записан в файл ./arrays/int_uniform_23000000.txt\n",
      "Массив размером 26000000 записан в файл ./arrays/int_uniform_26000000.txt\n",
      "Массив размером 29000000 записан в файл ./arrays/int_uniform_29000000.txt\n",
      "Массив размером 32000000 записан в файл ./arrays/int_uniform_32000000.txt\n",
      "Массив размером 35000000 записан в файл ./arrays/int_uniform_35000000.txt\n"
     ]
    },
    {
     "ename": "KeyboardInterrupt",
     "evalue": "",
     "output_type": "error",
     "traceback": [
      "\u001b[1;31m---------------------------------------------------------------------------\u001b[0m",
      "\u001b[1;31mKeyboardInterrupt\u001b[0m                         Traceback (most recent call last)",
      "Cell \u001b[1;32mIn[5], line 4\u001b[0m\n\u001b[0;32m      2\u001b[0m int_array \u001b[38;5;241m=\u001b[39m generate_random_array(size, \u001b[38;5;241m0\u001b[39m, size\u001b[38;5;241m/\u001b[39m\u001b[38;5;241m100\u001b[39m)\n\u001b[0;32m      3\u001b[0m file_name \u001b[38;5;241m=\u001b[39m \u001b[38;5;124mf\u001b[39m\u001b[38;5;124m'\u001b[39m\u001b[38;5;124m./arrays/int_uniform_\u001b[39m\u001b[38;5;132;01m{\u001b[39;00msize\u001b[38;5;132;01m}\u001b[39;00m\u001b[38;5;124m.txt\u001b[39m\u001b[38;5;124m'\u001b[39m\n\u001b[1;32m----> 4\u001b[0m \u001b[43mwrite_array_to_file\u001b[49m\u001b[43m(\u001b[49m\u001b[43mint_array\u001b[49m\u001b[43m,\u001b[49m\u001b[43m \u001b[49m\u001b[43mfile_name\u001b[49m\u001b[43m)\u001b[49m\n\u001b[0;32m      5\u001b[0m \u001b[38;5;28mprint\u001b[39m(\u001b[38;5;124mf\u001b[39m\u001b[38;5;124m\"\u001b[39m\u001b[38;5;124mМассив размером \u001b[39m\u001b[38;5;132;01m{\u001b[39;00msize\u001b[38;5;132;01m}\u001b[39;00m\u001b[38;5;124m записан в файл \u001b[39m\u001b[38;5;132;01m{\u001b[39;00mfile_name\u001b[38;5;132;01m}\u001b[39;00m\u001b[38;5;124m\"\u001b[39m)\n",
      "Cell \u001b[1;32mIn[3], line 14\u001b[0m, in \u001b[0;36mwrite_array_to_file\u001b[1;34m(array, file_name)\u001b[0m\n\u001b[0;32m     12\u001b[0m \u001b[38;5;28;01mwith\u001b[39;00m \u001b[38;5;28mopen\u001b[39m(file_name, \u001b[38;5;124m'\u001b[39m\u001b[38;5;124mw\u001b[39m\u001b[38;5;124m'\u001b[39m) \u001b[38;5;28;01mas\u001b[39;00m file:\n\u001b[0;32m     13\u001b[0m     \u001b[38;5;28;01mfor\u001b[39;00m num \u001b[38;5;129;01min\u001b[39;00m array:\n\u001b[1;32m---> 14\u001b[0m         \u001b[43mfile\u001b[49m\u001b[38;5;241;43m.\u001b[39;49m\u001b[43mwrite\u001b[49m\u001b[43m(\u001b[49m\u001b[38;5;28;43mstr\u001b[39;49m\u001b[43m(\u001b[49m\u001b[43mnum\u001b[49m\u001b[43m)\u001b[49m\u001b[43m \u001b[49m\u001b[38;5;241;43m+\u001b[39;49m\u001b[43m \u001b[49m\u001b[38;5;124;43m'\u001b[39;49m\u001b[38;5;130;43;01m\\n\u001b[39;49;00m\u001b[38;5;124;43m'\u001b[39;49m\u001b[43m)\u001b[49m\n",
      "\u001b[1;31mKeyboardInterrupt\u001b[0m: "
     ]
    }
   ],
   "source": [
    "for size in range(5_000_000, 41_000_001, 3_000_000):\n",
    "    int_array = generate_random_array(size, 0, size/100)\n",
    "    file_name = f'./arrays/int_uniform_{size}.txt'\n",
    "    write_array_to_file(int_array, file_name)\n",
    "    print(f\"Массив размером {size} записан в файл {file_name}\")"
   ]
  },
  {
   "cell_type": "code",
   "execution_count": 10,
   "metadata": {},
   "outputs": [
    {
     "name": "stdout",
     "output_type": "stream",
     "text": [
      "Массив размером 38000000 записан в файл ./arrays/int_uniform_38000000.txt\n"
     ]
    }
   ],
   "source": [
    "'''size = 38_000_000\n",
    "int_array = generate_random_array(size, 0, size/100)\n",
    "file_name = f'./arrays/int_uniform_{size}.txt'\n",
    "write_array_to_file(int_array, file_name)\n",
    "print(f\"Массив размером {size} записан в файл {file_name}\")'''"
   ]
  },
  {
   "cell_type": "code",
   "execution_count": 11,
   "metadata": {},
   "outputs": [
    {
     "name": "stdout",
     "output_type": "stream",
     "text": [
      "Массив размером 20000 записан в файл ./arrays/int_uniform_20000.txt\n",
      "Массив размером 40000 записан в файл ./arrays/int_uniform_40000.txt\n",
      "Массив размером 60000 записан в файл ./arrays/int_uniform_60000.txt\n",
      "Массив размером 80000 записан в файл ./arrays/int_uniform_80000.txt\n",
      "Массив размером 100000 записан в файл ./arrays/int_uniform_100000.txt\n",
      "Массив размером 120000 записан в файл ./arrays/int_uniform_120000.txt\n",
      "Массив размером 140000 записан в файл ./arrays/int_uniform_140000.txt\n",
      "Массив размером 160000 записан в файл ./arrays/int_uniform_160000.txt\n",
      "Массив размером 180000 записан в файл ./arrays/int_uniform_180000.txt\n",
      "Массив размером 200000 записан в файл ./arrays/int_uniform_200000.txt\n",
      "Массив размером 220000 записан в файл ./arrays/int_uniform_220000.txt\n",
      "Массив размером 240000 записан в файл ./arrays/int_uniform_240000.txt\n",
      "Массив размером 260000 записан в файл ./arrays/int_uniform_260000.txt\n",
      "Массив размером 280000 записан в файл ./arrays/int_uniform_280000.txt\n",
      "Массив размером 300000 записан в файл ./arrays/int_uniform_300000.txt\n"
     ]
    }
   ],
   "source": [
    "for size in range(20_000, 300_001, 20_000):\n",
    "    int_array = int_array = generate_random_array(size, 0, size/100)\n",
    "    file_name = f'./arrays/int_uniform_{size}.txt'\n",
    "    write_array_to_file(int_array, file_name)\n",
    "    print(f\"Массив размером {size} записан в файл {file_name}\")"
   ]
  },
  {
   "cell_type": "code",
   "execution_count": 12,
   "metadata": {},
   "outputs": [
    {
     "name": "stdout",
     "output_type": "stream",
     "text": [
      "Массив размером 1000 записан в файл ./arrays/int_uniform_1000.txt\n",
      "Массив размером 2000 записан в файл ./arrays/int_uniform_2000.txt\n",
      "Массив размером 3000 записан в файл ./arrays/int_uniform_3000.txt\n",
      "Массив размером 4000 записан в файл ./arrays/int_uniform_4000.txt\n",
      "Массив размером 5000 записан в файл ./arrays/int_uniform_5000.txt\n",
      "Массив размером 6000 записан в файл ./arrays/int_uniform_6000.txt\n",
      "Массив размером 7000 записан в файл ./arrays/int_uniform_7000.txt\n",
      "Массив размером 8000 записан в файл ./arrays/int_uniform_8000.txt\n",
      "Массив размером 9000 записан в файл ./arrays/int_uniform_9000.txt\n",
      "Массив размером 10000 записан в файл ./arrays/int_uniform_10000.txt\n"
     ]
    }
   ],
   "source": [
    "for size in range(1_000, 10_001, 1_000):\n",
    "    int_array = int_array = generate_random_array(size, 0, size/100)\n",
    "    file_name = f'./arrays/int_uniform_{size}.txt'\n",
    "    write_array_to_file(int_array, file_name)\n",
    "    print(f\"Массив размером {size} записан в файл {file_name}\")"
   ]
  },
  {
   "cell_type": "code",
   "execution_count": 13,
   "metadata": {},
   "outputs": [
    {
     "name": "stdout",
     "output_type": "stream",
     "text": [
      "Массив размером 50 записан в файл ./arrays/int_uniform_50.txt\n",
      "Массив размером 100 записан в файл ./arrays/int_uniform_100.txt\n",
      "Массив размером 150 записан в файл ./arrays/int_uniform_150.txt\n",
      "Массив размером 200 записан в файл ./arrays/int_uniform_200.txt\n",
      "Массив размером 250 записан в файл ./arrays/int_uniform_250.txt\n",
      "Массив размером 300 записан в файл ./arrays/int_uniform_300.txt\n",
      "Массив размером 350 записан в файл ./arrays/int_uniform_350.txt\n",
      "Массив размером 400 записан в файл ./arrays/int_uniform_400.txt\n",
      "Массив размером 450 записан в файл ./arrays/int_uniform_450.txt\n",
      "Массив размером 500 записан в файл ./arrays/int_uniform_500.txt\n"
     ]
    }
   ],
   "source": [
    "for size in range(50, 501, 50):\n",
    "    int_array = int_array = generate_random_array(size, 0, size/100)\n",
    "    file_name = f'./arrays/int_uniform_{size}.txt'\n",
    "    write_array_to_file(int_array, file_name)\n",
    "    print(f\"Массив размером {size} записан в файл {file_name}\")"
   ]
  }
 ],
 "metadata": {
  "kernelspec": {
   "display_name": "Python 3",
   "language": "python",
   "name": "python3"
  },
  "language_info": {
   "codemirror_mode": {
    "name": "ipython",
    "version": 3
   },
   "file_extension": ".py",
   "mimetype": "text/x-python",
   "name": "python",
   "nbconvert_exporter": "python",
   "pygments_lexer": "ipython3",
   "version": "3.12.2"
  }
 },
 "nbformat": 4,
 "nbformat_minor": 2
}
